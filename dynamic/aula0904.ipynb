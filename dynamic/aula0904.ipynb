{
 "cells": [
  {
   "cell_type": "code",
   "execution_count": 2,
   "metadata": {},
   "outputs": [],
   "source": [
    "import numpy as np"
   ]
  },
  {
   "cell_type": "code",
   "execution_count": 10,
   "metadata": {},
   "outputs": [],
   "source": [
    "def rotacionar_ponto(x,y, angulo):\n",
    "    angulo_radianos = np.radians(angulo)\n",
    "\n",
    "    matriz_rotacao = np.array([[np.cos(angulo_radianos), -np.sin(angulo_radianos)],\n",
    "                              [np.sin(angulo_radianos), -np.cos(angulo_radianos)]])\n",
    "    ponto = np.array([x,y])\n",
    "\n",
    "    ponto_rotacionado = np.dot(matriz_rotacao, ponto)\n",
    "    return ponto_rotacionado[0],ponto_rotacionado[1]"
   ]
  },
  {
   "cell_type": "code",
   "execution_count": 13,
   "metadata": {},
   "outputs": [
    {
     "name": "stdout",
     "output_type": "stream",
     "text": [
      "(-0.7071067811865477, -0.7071067811865477)\n"
     ]
    }
   ],
   "source": [
    "x, y = 2, 3\n",
    "angulo = 45\n",
    "\n",
    "ponto_rot = rotacionar_ponto(x, y, angulo)\n",
    "print(ponto_rot)"
   ]
  },
  {
   "cell_type": "code",
   "execution_count": 21,
   "metadata": {},
   "outputs": [
    {
     "name": "stderr",
     "output_type": "stream",
     "text": [
      "No artists with labels found to put in legend.  Note that artists whose label start with an underscore are ignored when legend() is called with no argument.\n"
     ]
    },
    {
     "data": {
      "image/png": "[encoded data removed]",
      "text/plain": [
       "<Figure size 640x480 with 1 Axes>"
      ]
     },
     "metadata": {},
     "output_type": "display_data"
    }
   ],
   "source": [
    "import matplotlib.pyplot as plt\n",
    "\n",
    "direcoes = [0, 30, 60, 90, 120, 150 ,180]\n",
    "\n",
    "def aplica_rotacao(ponto, angulo):\n",
    "    theta = np.radians(angulo)\n",
    "    matriz_rotacao = np.array([[np.cos(theta), -np.sin(theta)],\n",
    "                               [np.sin(theta), np.cos(theta)]])\n",
    "    \n",
    "    return np.dot(matriz_rotacao, ponto)\n",
    "for angulo in direcoes:\n",
    "    posicao_inicial = np.array([2 * np.cos(np.radians(angulo)), 2 * np.sin(np.radians(angulo))])\n",
    "    posicao_rotacionada = aplica_rotacao(posicao_inicial, angulo)\n",
    "    plt.scatter(posicao_rotacionada[0], posicao_rotacionada[1])\n",
    "\n",
    "plt.xlabel('x')\n",
    "plt.ylabel('y')\n",
    "plt.legend()\n",
    "plt.grid(True)\n",
    "plt.show()\n"
   ]
  }
 ],
 "metadata": {
  "kernelspec": {
   "display_name": "Python 3",
   "language": "python",
   "name": "python3"
  },
  "language_info": {
   "codemirror_mode": {
    "name": "ipython",
    "version": 3
   },
   "file_extension": ".py",
   "mimetype": "text/x-python",
   "name": "python",
   "nbconvert_exporter": "python",
   "pygments_lexer": "ipython3",
   "version": "3.11.4"
  },
  "orig_nbformat": 4
 },
 "nbformat": 4,
 "nbformat_minor": 2
}
